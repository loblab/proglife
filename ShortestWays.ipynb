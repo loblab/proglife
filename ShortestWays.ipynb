{
 "cells": [
  {
   "cell_type": "markdown",
   "metadata": {},
   "source": [
    "## 最短路线，矩形棋盘格\n",
    "棋盘格道路，从左上角到右下角，最短路线有多少条？"
   ]
  },
  {
   "cell_type": "code",
   "execution_count": 1,
   "metadata": {},
   "outputs": [
    {
     "name": "stdout",
     "output_type": "stream",
     "text": [
      "1 2\n",
      "2 6\n",
      "3 20\n",
      "4 70\n",
      "5 252\n",
      "6 924\n",
      "7 3432\n",
      "8 12870\n",
      "9 48620\n"
     ]
    }
   ],
   "source": [
    "def shortest(dy, dx):\n",
    "    index = range(2**(dy + dx))\n",
    "    valid = lambda x: 1 if bin(x).count(\"1\") == dx else 0\n",
    "    return sum(list(map(valid, index)))\n",
    "for d in range(1, 10):\n",
    "    print(d, shortest(d, d))"
   ]
  },
  {
   "cell_type": "code",
   "execution_count": 2,
   "metadata": {},
   "outputs": [
    {
     "data": {
      "text/plain": [
       "2002"
      ]
     },
     "execution_count": 2,
     "metadata": {},
     "output_type": "execute_result"
    }
   ],
   "source": [
    "shortest(5, 9)"
   ]
  },
  {
   "cell_type": "markdown",
   "metadata": {},
   "source": [
    "## 不规则形状"
   ]
  },
  {
   "cell_type": "code",
   "execution_count": 3,
   "metadata": {},
   "outputs": [
    {
     "data": {
      "text/plain": [
       "[[1, 1, 1, 1, 1, 1],\n",
       " [1, 1, 1, 1, 1, 1],\n",
       " [1, 1, 0, 0, 1, 1],\n",
       " [1, 1, 0, 0, 0, 1],\n",
       " [1, 1, 1, 0, 0, 1],\n",
       " [1, 1, 1, 1, 1, 1]]"
      ]
     },
     "execution_count": 3,
     "metadata": {},
     "output_type": "execute_result"
    }
   ],
   "source": [
    "shape1 = [ [1]*6, [1]*6, [1,1,0,0,1,1], [1,1,0,0,0,1], [1,1,1,0,0,1], [1]*6]\n",
    "shape1"
   ]
  },
  {
   "cell_type": "code",
   "execution_count": 4,
   "metadata": {},
   "outputs": [
    {
     "data": {
      "text/plain": [
       "[[1, 1],\n",
       " [1, 1, 1, 1],\n",
       " [1, 1, 1, 1, 1, 1],\n",
       " [1, 1, 0, 1, 1, 1, 1, 1],\n",
       " [1, 1, 1, 1, 1, 1, 1, 1, 1, 1],\n",
       " [1, 1, 1, 1, 1, 1, 1, 1, 1, 1]]"
      ]
     },
     "execution_count": 4,
     "metadata": {},
     "output_type": "execute_result"
    }
   ],
   "source": [
    "shape2 = [[1]*2, [1]*4, [1]*6, [1]*8, [1]*10, [1]*10]\n",
    "shape2[3][2] = 0\n",
    "shape2"
   ]
  },
  {
   "cell_type": "code",
   "execution_count": 5,
   "metadata": {},
   "outputs": [
    {
     "name": "stdout",
     "output_type": "stream",
     "text": [
      "上上上上上左左左左左\n",
      "上上上上左上左左左左\n",
      "上上上左上上左左左左\n",
      "上上上上左左上左左左\n",
      "上上上左上左上左左左\n",
      "上上上上左左左上左左\n",
      "上上上左上左左上左左\n",
      "上上上上左左左左上左\n",
      "上上上左上左左左上左\n",
      "左左左上左上上上上左\n",
      "左左左左上上上上上左\n",
      "上上上上左左左左左上\n",
      "上上上左上左左左左上\n",
      "左左左上左上上上左上\n",
      "左左左左上上上上左上\n",
      "左左左上左上上左上上\n",
      "左左左左上上上左上上\n",
      "左左左上左上左上上上\n",
      "左左左左上上左上上上\n",
      "左左左上左左上上上上\n",
      "左左左左上左上上上上\n",
      "左左左左左上上上上上\n"
     ]
    },
    {
     "data": {
      "text/plain": [
       "22"
      ]
     },
     "execution_count": 5,
     "metadata": {},
     "output_type": "execute_result"
    }
   ],
   "source": [
    "shape = shape1\n",
    "dy = len(shape) - 1\n",
    "dx = max(list(map(lambda i: len(shape[i]) - 1, range(dy + 1))))\n",
    "index = range(2**(dy + dx))\n",
    "fmtspec = \"0%db\" % (dy + dx)\n",
    "def valid(v):\n",
    "    bstr = format(v, fmtspec)\n",
    "    (y, x) = (0, 0); way = ''\n",
    "    for ch in bstr:\n",
    "        if (ch == '1'):\n",
    "            y += 1; way = '上' + way\n",
    "        else:\n",
    "            x += 1; way = '左' + way\n",
    "        if y > dy or x >= len(shape[y]) or shape[y][x] == 0:\n",
    "            return 0\n",
    "    print(way)\n",
    "    return 1\n",
    "\n",
    "sum(list(map(valid, index)))"
   ]
  },
  {
   "cell_type": "markdown",
   "metadata": {},
   "source": [
    "## 通用化，函数化"
   ]
  },
  {
   "cell_type": "markdown",
   "metadata": {},
   "source": [
    "### 解法1：穷举"
   ]
  },
  {
   "cell_type": "code",
   "execution_count": 6,
   "metadata": {},
   "outputs": [],
   "source": [
    "def solve1(shape):\n",
    "    dy = len(shape) - 1\n",
    "    dx = max(list(map(lambda i: len(shape[i]) - 1, range(dy + 1))))\n",
    "    index = range(2**(dy + dx))\n",
    "    fmtspec = \"0%db\" % (dy + dx)\n",
    "    def valid(v):\n",
    "        bstr = format(v, fmtspec)\n",
    "        (y, x) = (0, 0); way = ''\n",
    "        for ch in bstr:\n",
    "            if (ch == '1'):\n",
    "                y += 1; way = way + '下'\n",
    "            else:\n",
    "                x += 1; way = way + '右'\n",
    "            if y > dy or x >= len(shape[y]) or shape[y][x] == 0:\n",
    "                return 0\n",
    "        #print(way)\n",
    "        return 1\n",
    "    return sum(list(map(valid, index)))"
   ]
  },
  {
   "cell_type": "markdown",
   "metadata": {},
   "source": [
    "### 解法2：递归"
   ]
  },
  {
   "cell_type": "code",
   "execution_count": 7,
   "metadata": {},
   "outputs": [],
   "source": [
    "import copy\n",
    "def solve2(shape):\n",
    "    rows = len(shape)\n",
    "    cols = max(list(map(lambda i: len(shape[i]), range(rows))))\n",
    "    out = copy.deepcopy(shape)\n",
    "    \n",
    "    out[0][0] = 1\n",
    "    for row in range(rows):\n",
    "        c0 = 1 if row == 0 else 0\n",
    "        for col in range(c0, len(shape[row])):\n",
    "            if shape[row][col] == 0:\n",
    "                out[row][col] = 0\n",
    "            else:\n",
    "                v1 = out[row][col - 1] if col > 0 else 0\n",
    "                try:\n",
    "                    v2 = out[row - 1][col] if row > 0 else 0\n",
    "                except:\n",
    "                    v2 = 0\n",
    "                #print(row, col, v1, v2)\n",
    "                out[row][col] =  v1 + v2\n",
    "            \n",
    "    return out"
   ]
  },
  {
   "cell_type": "code",
   "execution_count": 8,
   "metadata": {},
   "outputs": [
    {
     "data": {
      "text/plain": [
       "[[1, 1, 1], [1, 1, 1], [1, 1, 1]]"
      ]
     },
     "execution_count": 8,
     "metadata": {},
     "output_type": "execute_result"
    }
   ],
   "source": [
    "shape0 = [[1]*3] * 3\n",
    "shape0"
   ]
  },
  {
   "cell_type": "code",
   "execution_count": 9,
   "metadata": {},
   "outputs": [
    {
     "data": {
      "text/plain": [
       "[[1, 1, 1, 1, 1, 1],\n",
       " [1, 2, 3, 4, 5, 6],\n",
       " [1, 3, 0, 0, 5, 11],\n",
       " [1, 4, 0, 0, 0, 11],\n",
       " [1, 5, 5, 0, 0, 11],\n",
       " [1, 6, 11, 11, 11, 22]]"
      ]
     },
     "execution_count": 9,
     "metadata": {},
     "output_type": "execute_result"
    }
   ],
   "source": [
    "solve2(shape)"
   ]
  },
  {
   "cell_type": "code",
   "execution_count": 10,
   "metadata": {},
   "outputs": [
    {
     "data": {
      "text/plain": [
       "[[1, 1, 1, 1, 1, 1, 1],\n",
       " [1, 1, 1, 0, 1, 1, 1],\n",
       " [0, 1, 1, 1, 1, 0, 1],\n",
       " [1, 1, 1, 1, 1, 0, 1, 1, 1],\n",
       " [1, 0, 1, 1, 1, 1, 1, 1, 1],\n",
       " [1, 1, 0, 1, 1, 1, 1, 1, 1],\n",
       " [1, 1, 1, 1, 1, 1, 1, 1, 1]]"
      ]
     },
     "execution_count": 10,
     "metadata": {},
     "output_type": "execute_result"
    }
   ],
   "source": [
    "shape3 = [[1] * 7, [1] * 7, [1] * 7, [1] * 9, [1] * 9, [1] * 9, [1] * 9]\n",
    "shape3[1][3] = 0\n",
    "shape3[2][0] = 0\n",
    "shape3[2][5] = 0\n",
    "shape3[3][5] = 0\n",
    "shape3[4][1] = 0\n",
    "shape3[5][2] = 0\n",
    "shape3"
   ]
  },
  {
   "cell_type": "code",
   "execution_count": 11,
   "metadata": {},
   "outputs": [
    {
     "data": {
      "text/plain": [
       "699"
      ]
     },
     "execution_count": 11,
     "metadata": {},
     "output_type": "execute_result"
    }
   ],
   "source": [
    "solve1(shape3)"
   ]
  },
  {
   "cell_type": "code",
   "execution_count": 12,
   "metadata": {},
   "outputs": [
    {
     "data": {
      "text/plain": [
       "[[1, 1, 1, 1, 1, 1],\n",
       " [1, 2, 3, 4, 5, 6],\n",
       " [1, 3, 0, 0, 5, 11],\n",
       " [1, 4, 0, 0, 0, 11],\n",
       " [1, 5, 5, 0, 0, 11],\n",
       " [1, 6, 11, 11, 11, 22]]"
      ]
     },
     "execution_count": 12,
     "metadata": {},
     "output_type": "execute_result"
    }
   ],
   "source": [
    "solve2(shape1)"
   ]
  },
  {
   "cell_type": "code",
   "execution_count": 13,
   "metadata": {},
   "outputs": [
    {
     "data": {
      "text/plain": [
       "[[1, 1],\n",
       " [1, 2, 2, 2],\n",
       " [1, 3, 5, 7, 7, 7],\n",
       " [1, 4, 0, 7, 14, 21, 21, 21],\n",
       " [1, 5, 5, 12, 26, 47, 68, 89, 89, 89],\n",
       " [1, 6, 11, 23, 49, 96, 164, 253, 342, 431]]"
      ]
     },
     "execution_count": 13,
     "metadata": {},
     "output_type": "execute_result"
    }
   ],
   "source": [
    "solve2(shape2)"
   ]
  },
  {
   "cell_type": "code",
   "execution_count": 14,
   "metadata": {},
   "outputs": [
    {
     "data": {
      "text/plain": [
       "[[1, 1, 1, 1, 1, 1, 1],\n",
       " [1, 1, 1, 0, 1, 1, 1],\n",
       " [0, 1, 1, 1, 1, 0, 1],\n",
       " [1, 1, 1, 1, 1, 0, 1, 1, 1],\n",
       " [1, 0, 1, 1, 1, 1, 1, 1, 1],\n",
       " [1, 1, 0, 1, 1, 1, 1, 1, 1],\n",
       " [1, 1, 1, 1, 1, 1, 1, 1, 1]]"
      ]
     },
     "execution_count": 14,
     "metadata": {},
     "output_type": "execute_result"
    }
   ],
   "source": [
    "shape3"
   ]
  },
  {
   "cell_type": "code",
   "execution_count": 15,
   "metadata": {},
   "outputs": [
    {
     "data": {
      "text/plain": [
       "[[1, 1, 1, 1, 1, 1, 1],\n",
       " [1, 2, 3, 0, 1, 2, 3],\n",
       " [0, 2, 5, 5, 6, 0, 3],\n",
       " [0, 2, 7, 12, 18, 0, 3, 3, 3],\n",
       " [0, 0, 7, 19, 37, 37, 40, 43, 46],\n",
       " [0, 0, 0, 19, 56, 93, 133, 176, 222],\n",
       " [0, 0, 0, 19, 75, 168, 301, 477, 699]]"
      ]
     },
     "execution_count": 15,
     "metadata": {},
     "output_type": "execute_result"
    }
   ],
   "source": [
    "solve2(shape3)"
   ]
  },
  {
   "cell_type": "code",
   "execution_count": 16,
   "metadata": {},
   "outputs": [
    {
     "data": {
      "text/plain": [
       "699"
      ]
     },
     "execution_count": 16,
     "metadata": {},
     "output_type": "execute_result"
    }
   ],
   "source": [
    "solve1(shape3)"
   ]
  },
  {
   "cell_type": "code",
   "execution_count": null,
   "metadata": {},
   "outputs": [],
   "source": []
  }
 ],
 "metadata": {
  "kernelspec": {
   "display_name": "Python 3",
   "language": "python",
   "name": "python3"
  },
  "language_info": {
   "codemirror_mode": {
    "name": "ipython",
    "version": 3
   },
   "file_extension": ".py",
   "mimetype": "text/x-python",
   "name": "python",
   "nbconvert_exporter": "python",
   "pygments_lexer": "ipython3",
   "version": "3.6.9"
  }
 },
 "nbformat": 4,
 "nbformat_minor": 2
}

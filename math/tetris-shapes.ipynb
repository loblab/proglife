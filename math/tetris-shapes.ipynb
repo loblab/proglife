{
 "cells": [
  {
   "cell_type": "markdown",
   "metadata": {},
   "source": [
    "# 5阶俄罗斯方块\n",
    "5阶俄罗斯方块有多少种形状？N阶呢？"
   ]
  },
  {
   "cell_type": "code",
   "execution_count": 1,
   "metadata": {},
   "outputs": [],
   "source": [
    "import numpy as np\n",
    "import matplotlib.pyplot as plt"
   ]
  },
  {
   "cell_type": "code",
   "execution_count": 2,
   "metadata": {},
   "outputs": [],
   "source": [
    "class Shape:\n",
    "    def __init__(self, x, y):\n",
    "        self.x = x\n",
    "        self.y = y\n",
    "        self.n = len(x)\n",
    "        self.h = None\n",
    "    \n",
    "    def to_array(self):\n",
    "        a = np.zeros([self.n, self.n], dtype=int)\n",
    "        for i in range(self.n):\n",
    "            a[self.y[i], self.x[i]] = 1\n",
    "        return a\n",
    "        \n",
    "    def align(self):\n",
    "        x0 = min(self.x)\n",
    "        y0 = min(self.y)\n",
    "        for i in range(self.n):\n",
    "            self.x[i] -= x0\n",
    "            self.y[i] -= y0\n",
    "            \n",
    "    def rotate(self):\n",
    "        y = list(map(lambda v: -v, self.x))\n",
    "        return Shape(self.y, y)\n",
    "    \n",
    "    def flip(self):\n",
    "        y = list(map(lambda v: -v, self.y))\n",
    "        return Shape(self.x, y)\n",
    "    \n",
    "    def hash(self):\n",
    "        if self.h:\n",
    "            return self.h\n",
    "        self.align()\n",
    "        m = map(lambda a,b: a+b*self.n, self.x, self.y)\n",
    "        h = list(m)\n",
    "        h.sort()\n",
    "        self.h = h\n",
    "        return self.h\n",
    "    \n",
    "    def is_same(self, other, flip=False):\n",
    "        h1 = self.hash()\n",
    "        h2 = self.flip().hash() if flip else h1\n",
    "        h = other.hash()\n",
    "        if h == h1 or h == h2:\n",
    "            return True\n",
    "        for i in range(3):\n",
    "            other = other.rotate()\n",
    "            h = other.hash()\n",
    "            if h == h1 or h == h2:\n",
    "                return True\n",
    "        return False\n",
    "    \n",
    "    def extend(self, x, y):\n",
    "        for i in range(self.n):\n",
    "            if self.x[i] == x and self.y[i] == y:\n",
    "                return None\n",
    "        x2 = list(self.x)\n",
    "        y2 = list(self.y)\n",
    "        x2.append(x)\n",
    "        y2.append(y)\n",
    "        return Shape(x2, y2)\n",
    "    \n",
    "    def grow(self):\n",
    "        shapes = []\n",
    "        for i in range(self.n):\n",
    "            x = self.x[i]\n",
    "            y = self.y[i]\n",
    "            shapes.append(self.extend(x - 1, y))\n",
    "            shapes.append(self.extend(x + 1, y))\n",
    "            shapes.append(self.extend(x, y - 1))\n",
    "            shapes.append(self.extend(x, y + 1))\n",
    "        return shapes\n",
    "            "
   ]
  },
  {
   "cell_type": "code",
   "execution_count": 3,
   "metadata": {},
   "outputs": [
    {
     "data": {
      "text/plain": [
       "array([[1, 1, 1, 1, 0],\n",
       "       [0, 0, 0, 1, 0],\n",
       "       [0, 0, 0, 0, 0],\n",
       "       [0, 0, 0, 0, 0],\n",
       "       [0, 0, 0, 0, 0]])"
      ]
     },
     "execution_count": 3,
     "metadata": {},
     "output_type": "execute_result"
    }
   ],
   "source": [
    "s = Shape([0, 1, 2, 3, 3], [4, 4, 4, 4, 5])\n",
    "s.align()\n",
    "s.to_array()"
   ]
  },
  {
   "cell_type": "code",
   "execution_count": 4,
   "metadata": {},
   "outputs": [
    {
     "data": {
      "text/plain": [
       "[0, 1, 2, 3, 8]"
      ]
     },
     "execution_count": 4,
     "metadata": {},
     "output_type": "execute_result"
    }
   ],
   "source": [
    "s.hash()"
   ]
  },
  {
   "cell_type": "code",
   "execution_count": 5,
   "metadata": {},
   "outputs": [
    {
     "data": {
      "text/plain": [
       "True"
      ]
     },
     "execution_count": 5,
     "metadata": {},
     "output_type": "execute_result"
    }
   ],
   "source": [
    "r = s.rotate()\n",
    "r.is_same(s)"
   ]
  },
  {
   "cell_type": "code",
   "execution_count": 6,
   "metadata": {},
   "outputs": [],
   "source": [
    "def draw_shape(s, ax, scale, x0, y0):\n",
    "    if s is None:\n",
    "        return\n",
    "    s.align()\n",
    "    x1 = min(s.x)\n",
    "    x2 = max(s.x)\n",
    "    y1 = min(s.y)\n",
    "    y2 = max(s.y)\n",
    "    nn = s.n * 2.0\n",
    "    x0 += (s.n - (x2 - x1 + 1)) / nn\n",
    "    y0 += (s.n - (y2 - y1 + 1)) / nn\n",
    "    x0 /= scale\n",
    "    y0 /= scale\n",
    "    scale *= s.n\n",
    "    for i in range(s.n):\n",
    "        rect = plt.Rectangle((s.x[i]/scale + x0, s.y[i]/scale + y0), 1/scale, 1/scale, ec='y')\n",
    "        ax.add_patch(rect)\n",
    "    \n",
    "def draw(shapes):\n",
    "    fig = plt.figure()\n",
    "    ax = fig.add_subplot(1, 1, 1, aspect='equal')\n",
    "    total = len(shapes)\n",
    "    sqrt = total ** 0.5\n",
    "    scale = int(sqrt) + (1 if sqrt-int(sqrt) else 0)\n",
    "    for i in range(total):\n",
    "        draw_shape(shapes[i], ax, scale, i % scale, scale - 1 - int(i / scale))\n",
    "    frame = plt.gca()\n",
    "    frame.axes.get_xaxis().set_visible(False)\n",
    "    frame.axes.get_yaxis().set_visible(False)\n",
    "    plt.show()"
   ]
  },
  {
   "cell_type": "code",
   "execution_count": 7,
   "metadata": {},
   "outputs": [
    {
     "data": {
      "image/png": "[encoded data removed]",
      "text/plain": [
       "<matplotlib.figure.Figure at 0x7fd8c59eb470>"
      ]
     },
     "metadata": {
      "needs_background": "light"
     },
     "output_type": "display_data"
    }
   ],
   "source": [
    "s = Shape([0, 1, 2, 3, 3], [4, 4, 4, 4, 5])\n",
    "r1 = s.rotate()\n",
    "r2 = r1.rotate()\n",
    "r3 = r2.rotate()\n",
    "r2.is_same(r3)\n",
    "\n",
    "draw([s, r1, r2, r3])"
   ]
  },
  {
   "cell_type": "code",
   "execution_count": 8,
   "metadata": {},
   "outputs": [
    {
     "data": {
      "text/plain": [
       "False"
      ]
     },
     "execution_count": 8,
     "metadata": {},
     "output_type": "execute_result"
    }
   ],
   "source": [
    "a = [1,2,3]\n",
    "b = [1,3,2]\n",
    "#b.sort()\n",
    "a == b"
   ]
  },
  {
   "cell_type": "code",
   "execution_count": 9,
   "metadata": {},
   "outputs": [
    {
     "data": {
      "text/plain": [
       "[1, 6, 6]"
      ]
     },
     "execution_count": 9,
     "metadata": {},
     "output_type": "execute_result"
    }
   ],
   "source": [
    "list(map(lambda x,y: x*y, a,b))"
   ]
  },
  {
   "cell_type": "code",
   "execution_count": 10,
   "metadata": {},
   "outputs": [],
   "source": [
    "class Result:\n",
    "    def __init__(self, flip=False):\n",
    "        self.rset = []\n",
    "        self.flip = flip\n",
    "        \n",
    "    def save(self, obj):\n",
    "        if obj is None:\n",
    "            return\n",
    "        for s in self.rset:\n",
    "           if obj.is_same(s, self.flip):\n",
    "                return\n",
    "        self.rset.append(obj)\n",
    "        \n",
    "    def grow1(self, s):\n",
    "        objs = s.grow()\n",
    "        for obj in objs:\n",
    "            self.save(obj)\n",
    "            \n",
    "    def grow(self, ss):\n",
    "        for s in ss:\n",
    "            self.grow1(s)\n",
    "        return self.rset\n",
    "\n",
    "def solve(n, flip=False):\n",
    "    s = Shape([0], [0])\n",
    "    shapes = [s]\n",
    "    for i in range(n - 1):\n",
    "        print(i + 1, len(shapes))\n",
    "        r = Result(flip)\n",
    "        shapes = r.grow(shapes)\n",
    "    print(\"Total: \", len(shapes))\n",
    "    draw(shapes)"
   ]
  },
  {
   "cell_type": "code",
   "execution_count": 11,
   "metadata": {},
   "outputs": [
    {
     "name": "stdout",
     "output_type": "stream",
     "text": [
      "1 1\n",
      "2 1\n",
      "3 2\n",
      "Total:  7\n"
     ]
    },
    {
     "data": {
      "image/png": "[encoded data removed]",
      "text/plain": [
       "<matplotlib.figure.Figure at 0x7fd8c599e128>"
      ]
     },
     "metadata": {
      "needs_background": "light"
     },
     "output_type": "display_data"
    }
   ],
   "source": [
    "solve(4)"
   ]
  },
  {
   "cell_type": "code",
   "execution_count": 12,
   "metadata": {},
   "outputs": [
    {
     "name": "stdout",
     "output_type": "stream",
     "text": [
      "1 1\n",
      "2 1\n",
      "3 2\n",
      "Total:  5\n"
     ]
    },
    {
     "data": {
      "image/png": "[encoded data removed]",
      "text/plain": [
       "<matplotlib.figure.Figure at 0x7fd8c599e2b0>"
      ]
     },
     "metadata": {
      "needs_background": "light"
     },
     "output_type": "display_data"
    }
   ],
   "source": [
    "solve(4, flip=True)"
   ]
  },
  {
   "cell_type": "code",
   "execution_count": 13,
   "metadata": {},
   "outputs": [
    {
     "name": "stdout",
     "output_type": "stream",
     "text": [
      "1 1\n",
      "2 1\n",
      "3 2\n",
      "4 7\n",
      "Total:  18\n"
     ]
    },
    {
     "data": {
      "image/png": "[encoded data removed]",
      "text/plain": [
       "<matplotlib.figure.Figure at 0x7fd8c584e780>"
      ]
     },
     "metadata": {
      "needs_background": "light"
     },
     "output_type": "display_data"
    }
   ],
   "source": [
    "solve(5)"
   ]
  },
  {
   "cell_type": "code",
   "execution_count": 14,
   "metadata": {},
   "outputs": [
    {
     "name": "stdout",
     "output_type": "stream",
     "text": [
      "1 1\n",
      "2 1\n",
      "3 2\n",
      "4 5\n",
      "Total:  12\n"
     ]
    },
    {
     "data": {
      "image/png": "[encoded data removed]",
      "text/plain": [
       "<matplotlib.figure.Figure at 0x7fd8c5855d30>"
      ]
     },
     "metadata": {
      "needs_background": "light"
     },
     "output_type": "display_data"
    }
   ],
   "source": [
    "solve(5, flip=True)"
   ]
  },
  {
   "cell_type": "code",
   "execution_count": 15,
   "metadata": {},
   "outputs": [
    {
     "name": "stdout",
     "output_type": "stream",
     "text": [
      "1 1\n",
      "2 1\n",
      "3 2\n",
      "4 7\n",
      "5 18\n",
      "Total:  60\n"
     ]
    },
    {
     "data": {
      "image/png": "[encoded data removed]",
      "text/plain": [
       "<matplotlib.figure.Figure at 0x7fd8c5795400>"
      ]
     },
     "metadata": {
      "needs_background": "light"
     },
     "output_type": "display_data"
    }
   ],
   "source": [
    "solve(6)"
   ]
  },
  {
   "cell_type": "code",
   "execution_count": 16,
   "metadata": {},
   "outputs": [
    {
     "name": "stdout",
     "output_type": "stream",
     "text": [
      "1 1\n",
      "2 1\n",
      "3 2\n",
      "4 5\n",
      "5 12\n",
      "Total:  35\n"
     ]
    },
    {
     "data": {
      "image/png": "[encoded data removed]",
      "text/plain": [
       "<matplotlib.figure.Figure at 0x7fd8c5640a20>"
      ]
     },
     "metadata": {
      "needs_background": "light"
     },
     "output_type": "display_data"
    }
   ],
   "source": [
    "solve(6, flip=True)"
   ]
  },
  {
   "cell_type": "code",
   "execution_count": 17,
   "metadata": {},
   "outputs": [
    {
     "name": "stdout",
     "output_type": "stream",
     "text": [
      "1 1\n",
      "2 1\n",
      "3 2\n",
      "4 7\n",
      "5 18\n",
      "6 60\n",
      "Total:  196\n"
     ]
    },
    {
     "data": {
      "image/png": "[encoded data removed]",
      "text/plain": [
       "<matplotlib.figure.Figure at 0x7fd8c51bc978>"
      ]
     },
     "metadata": {
      "needs_background": "light"
     },
     "output_type": "display_data"
    }
   ],
   "source": [
    "solve(7)"
   ]
  }
 ],
 "metadata": {
  "kernelspec": {
   "display_name": "Python 3",
   "language": "python",
   "name": "python3"
  },
  "language_info": {
   "codemirror_mode": {
    "name": "ipython",
    "version": 3
   },
   "file_extension": ".py",
   "mimetype": "text/x-python",
   "name": "python",
   "nbconvert_exporter": "python",
   "pygments_lexer": "ipython3",
   "version": "3.6.9"
  }
 },
 "nbformat": 4,
 "nbformat_minor": 4
}

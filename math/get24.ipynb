{
 "cells": [
  {
   "cell_type": "markdown",
   "metadata": {},
   "source": [
    "#  凑24\n",
    "4个数，加减乘除，得到24\n",
    "- Updated: 1/3/2021\n",
    "- Created: 5/21/2007"
   ]
  },
  {
   "cell_type": "markdown",
   "metadata": {},
   "source": [
    "## 二叉树表达式"
   ]
  },
  {
   "cell_type": "code",
   "execution_count": 1,
   "metadata": {},
   "outputs": [],
   "source": [
    "count= 0\n",
    "\n",
    "def pattern(a):\n",
    "    global count\n",
    "    if len(a) == 2:\n",
    "        count += 1\n",
    "        print(count, a)\n",
    "        return\n",
    "    for i in range(len(a) - 1):\n",
    "        if i > 0 and a[i] == a[i-1]:\n",
    "            continue\n",
    "        for j in range(i+1, len(a)):\n",
    "            if j > i+1 and a[j] == a[j-1]:\n",
    "                continue\n",
    "            b = a[:]\n",
    "            i1, i2 = b[i], b[j]\n",
    "            del b[j]\n",
    "            del b[i]\n",
    "            b.append([i1, i2])\n",
    "            #print(b)\n",
    "            pattern(b)"
   ]
  },
  {
   "cell_type": "code",
   "execution_count": 2,
   "metadata": {},
   "outputs": [
    {
     "name": "stdout",
     "output_type": "stream",
     "text": [
      "1 [[1, 1], [9, 9]]\n",
      "2 [9, [9, [1, 1]]]\n",
      "3 [[1, 9], [1, 9]]\n",
      "4 [9, [1, [1, 9]]]\n",
      "5 [1, [9, [1, 9]]]\n",
      "6 [[9, 9], [1, 1]]\n",
      "7 [1, [1, [9, 9]]]\n"
     ]
    }
   ],
   "source": [
    "nums = [9, 9, 1, 1]\n",
    "nums.sort()\n",
    "pattern(nums)"
   ]
  },
  {
   "cell_type": "markdown",
   "metadata": {},
   "source": [
    "## 加上操作符\n",
    "加法和乘法无顺序，减法和除法有顺序，所以共有6种操作符。这样就不需要对操作数进行排列了。"
   ]
  },
  {
   "cell_type": "code",
   "execution_count": 3,
   "metadata": {},
   "outputs": [],
   "source": [
    "OP_ADD = lambda a, b: [a[0]*b[1]+a[1]*b[0], a[1]*b[1]]\n",
    "OP_SUB = lambda a, b: [a[0]*b[1]-a[1]*b[0], a[1]*b[1]]\n",
    "OP_BUS = lambda a, b: [a[1]*b[0]-a[0]*b[1], a[1]*b[1]]\n",
    "OP_MUL = lambda a, b: [a[0]*b[0], a[1]*b[1]]\n",
    "OP_DIV = lambda a, b: [a[0]*b[1], a[1]*b[0]]\n",
    "OP_VID = lambda a, b: [a[1]*b[0], a[0]*b[1]]\n",
    "\n",
    "TEXT_ADD = lambda a, b: a + '+' + b\n",
    "TEXT_SUB = lambda a, b: a + '-' + b\n",
    "TEXT_BUS = lambda a, b: b + '-' + a\n",
    "TEXT_MUL = lambda a, b: a + '*' + b\n",
    "TEXT_DIV = lambda a, b: a + '/' + b\n",
    "TEXT_VID = lambda a, b: b + '/' + a\n",
    "\n",
    "OPS_OP = [OP_ADD, OP_SUB, OP_BUS, OP_MUL, OP_DIV, OP_VID]\n",
    "OPS_TEXT = [TEXT_ADD, TEXT_SUB, TEXT_BUS, TEXT_MUL, TEXT_DIV, TEXT_VID]\n",
    "OPS_CODE = range(len(OPS_OP))"
   ]
  },
  {
   "cell_type": "code",
   "execution_count": 4,
   "metadata": {},
   "outputs": [],
   "source": [
    "def solve(a):\n",
    "    if len(a) == 1:\n",
    "        check_24(a[0])\n",
    "        return\n",
    "    for op in OPS_CODE:\n",
    "        for i in range(len(a) - 1):\n",
    "            if i > 0 and a[i] == a[i-1]:\n",
    "                continue\n",
    "            for j in range(i+1, len(a)):\n",
    "                if j > i+1 and a[j] == a[j-1]:\n",
    "                    continue\n",
    "                b = a[:]\n",
    "                i1, i2 = b[i], b[j]\n",
    "                del b[j]\n",
    "                del b[i]\n",
    "                b.append([op, i1, i2])\n",
    "                solve(b)\n",
    "\n",
    "def calc(expr):\n",
    "    if type(expr) is int:\n",
    "        return [expr, 1]\n",
    "    return OPS_OP[expr[0]](calc(expr[1]), calc(expr[2]))\n",
    "\n",
    "def text(expr):\n",
    "    if type(expr) is int:\n",
    "        return str(expr)\n",
    "    return '(' + OPS_TEXT[expr[0]](text(expr[1]), text(expr[2])) + ')'"
   ]
  },
  {
   "cell_type": "markdown",
   "metadata": {},
   "source": [
    "- check_24: 检查表达式的值是否为24，是就打印出来；\n",
    "- check_int: 检查表达式的值是否为整数，是就打印出来；这样可以输出所有整数值的表达式。可用于出题。"
   ]
  },
  {
   "cell_type": "code",
   "execution_count": 5,
   "metadata": {},
   "outputs": [],
   "source": [
    "count = 0\n",
    "def check_24(expr):\n",
    "    global count\n",
    "    count = count + 1\n",
    "    #print(count, text(expr))\n",
    "    val = calc(expr)\n",
    "    if val[1] > 0 and val[0] == val[1] * 24:\n",
    "        print(text(expr) + ' = 24')\n",
    "        \n",
    "def check_int(expr):\n",
    "    val = calc(expr)\n",
    "    if val[1] > 0 and val[0] % val[1] == 0:\n",
    "        vali = int(val[0] / val[1])\n",
    "        print(vali, text(expr))"
   ]
  },
  {
   "cell_type": "markdown",
   "metadata": {},
   "source": [
    "## 调用"
   ]
  },
  {
   "cell_type": "code",
   "execution_count": 12,
   "metadata": {},
   "outputs": [
    {
     "name": "stdout",
     "output_type": "stream",
     "text": [
      "[3, 3, 7, 7]\n",
      "(7*(3+(3/7))) = 24\n"
     ]
    }
   ],
   "source": [
    "nums = [3, 3, 7, 7]\n",
    "print(nums)\n",
    "nums.sort()\n",
    "solve(nums)"
   ]
  },
  {
   "cell_type": "code",
   "execution_count": 16,
   "metadata": {},
   "outputs": [
    {
     "name": "stdout",
     "output_type": "stream",
     "text": [
      "[1, 3, 5, 7]\n",
      "((1+5)*(7-3)) = 24\n",
      "((5+7)*(3-1)) = 24\n",
      "((3-1)*(5+7)) = 24\n",
      "((7-3)*(1+5)) = 24\n"
     ]
    }
   ],
   "source": [
    "nums = [1, 3, 5, 7]\n",
    "print(nums)\n",
    "nums.sort()\n",
    "solve(nums)"
   ]
  }
 ],
 "metadata": {
  "kernelspec": {
   "display_name": "Python 3",
   "language": "python",
   "name": "python3"
  },
  "language_info": {
   "codemirror_mode": {
    "name": "ipython",
    "version": 3
   },
   "file_extension": ".py",
   "mimetype": "text/x-python",
   "name": "python",
   "nbconvert_exporter": "python",
   "pygments_lexer": "ipython3",
   "version": "3.8.5"
  }
 },
 "nbformat": 4,
 "nbformat_minor": 4
}
